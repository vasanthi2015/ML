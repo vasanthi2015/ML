{
 "cells": [
  {
   "cell_type": "code",
   "execution_count": 3,
   "metadata": {
    "colab": {
     "base_uri": "https://localhost:8080/"
    },
    "id": "5nxPwX6P9c_b",
    "outputId": "40e8d984-016d-4c42-b18b-1968381e04ce"
   },
   "outputs": [
    {
     "name": "stdout",
     "output_type": "stream",
     "text": [
      "[nltk_data] Downloading package stopwords to /root/nltk_data...\n",
      "[nltk_data]   Unzipping corpora/stopwords.zip.\n",
      "[nltk_data] Downloading package punkt to /root/nltk_data...\n",
      "[nltk_data]   Unzipping tokenizers/punkt.zip.\n",
      "Collecting contractions\n",
      "  Downloading https://files.pythonhosted.org/packages/4a/5f/91102df95715fdda07f56a7eba2baae983e2ae16a080eb52d79e08ec6259/contractions-0.0.45-py2.py3-none-any.whl\n",
      "Collecting textsearch\n",
      "  Downloading https://files.pythonhosted.org/packages/42/a8/03407021f9555043de5492a2bd7a35c56cc03c2510092b5ec018cae1bbf1/textsearch-0.0.17-py2.py3-none-any.whl\n",
      "Collecting pyahocorasick\n",
      "\u001b[?25l  Downloading https://files.pythonhosted.org/packages/4a/92/b3c70b8cf2b76f7e3e8b7243d6f06f7cb3bab6ada237b1bce57604c5c519/pyahocorasick-1.4.1.tar.gz (321kB)\n",
      "\u001b[K     |████████████████████████████████| 327kB 7.8MB/s \n",
      "\u001b[?25hCollecting Unidecode\n",
      "\u001b[?25l  Downloading https://files.pythonhosted.org/packages/74/65/91eab655041e9e92f948cb7302e54962035762ce7b518272ed9d6b269e93/Unidecode-1.1.2-py2.py3-none-any.whl (239kB)\n",
      "\u001b[K     |████████████████████████████████| 245kB 13.9MB/s \n",
      "\u001b[?25hBuilding wheels for collected packages: pyahocorasick\n",
      "  Building wheel for pyahocorasick (setup.py) ... \u001b[?25l\u001b[?25hdone\n",
      "  Created wheel for pyahocorasick: filename=pyahocorasick-1.4.1-cp36-cp36m-linux_x86_64.whl size=84334 sha256=f69b35d8bc14d901267d140f092553666de657954f61cebc9eb54fa400eb21b6\n",
      "  Stored in directory: /root/.cache/pip/wheels/e4/ab/f7/cb39270df8f6126f3dd4c33d302357167086db460968cfc80c\n",
      "Successfully built pyahocorasick\n",
      "Installing collected packages: pyahocorasick, Unidecode, textsearch, contractions\n",
      "Successfully installed Unidecode-1.1.2 contractions-0.0.45 pyahocorasick-1.4.1 textsearch-0.0.17\n"
     ]
    }
   ],
   "source": [
    "#1. Import the libraries\n",
    "import numpy as np\n",
    "import pandas as pd\n",
    "import matplotlib.pyplot as plt\n",
    "import nltk\n",
    "nltk.download('stopwords')\n",
    "nltk.download('punkt')\n",
    "\n",
    "from nltk.corpus import stopwords\n",
    "from nltk.stem import PorterStemmer\n",
    "from nltk.tokenize import word_tokenize\n",
    "from sklearn.feature_extraction.text import CountVectorizer\n",
    "from sklearn.feature_extraction.text import TfidfVectorizer\n",
    "from nltk.stem import LancasterStemmer,WordNetLemmatizer\n",
    "from bs4 import BeautifulSoup\n",
    "import re, string, unicodedata\n",
    "!pip install contractions\n",
    "import contractions\n"
   ]
  },
  {
   "cell_type": "code",
   "execution_count": 5,
   "metadata": {
    "colab": {
     "base_uri": "https://localhost:8080/"
    },
    "id": "XkwRDbPO-nr8",
    "outputId": "e3941e02-8e3a-4ba5-b38b-87178b82343e"
   },
   "outputs": [
    {
     "name": "stdout",
     "output_type": "stream",
     "text": [
      "Drive already mounted at /content/drive; to attempt to forcibly remount, call drive.mount(\"/content/drive\", force_remount=True).\n"
     ]
    }
   ],
   "source": [
    "from google.colab import drive\n",
    "drive.mount(\"/content/drive\")"
   ]
  },
  {
   "cell_type": "code",
   "execution_count": 6,
   "metadata": {
    "id": "KhFuHpQ__9DM"
   },
   "outputs": [],
   "source": [
    "#1. Load dataset\n",
    "tweets = pd.read_csv('/content/drive/MyDrive/NL/project/Tweets.csv')"
   ]
  },
  {
   "cell_type": "code",
   "execution_count": 7,
   "metadata": {
    "colab": {
     "base_uri": "https://localhost:8080/"
    },
    "id": "faxkMMSGAtxN",
    "outputId": "514305e6-2308-4d34-e329-32df8db28196"
   },
   "outputs": [
    {
     "name": "stdout",
     "output_type": "stream",
     "text": [
      "(14640, 15)\n",
      "Index(['tweet_id', 'airline_sentiment', 'airline_sentiment_confidence',\n",
      "       'negativereason', 'negativereason_confidence', 'airline',\n",
      "       'airline_sentiment_gold', 'name', 'negativereason_gold',\n",
      "       'retweet_count', 'text', 'tweet_coord', 'tweet_created',\n",
      "       'tweet_location', 'user_timezone'],\n",
      "      dtype='object')\n"
     ]
    }
   ],
   "source": [
    "# 1. print shape\n",
    "print(tweets.shape)\n",
    "print(tweets.columns)"
   ]
  },
  {
   "cell_type": "code",
   "execution_count": 8,
   "metadata": {
    "colab": {
     "base_uri": "https://localhost:8080/",
     "height": 297
    },
    "id": "ODnir9B-EUAu",
    "outputId": "459618d6-82a5-4969-fefa-ca33fe84ae9b"
   },
   "outputs": [
    {
     "data": {
      "text/html": [
       "<div>\n",
       "<style scoped>\n",
       "    .dataframe tbody tr th:only-of-type {\n",
       "        vertical-align: middle;\n",
       "    }\n",
       "\n",
       "    .dataframe tbody tr th {\n",
       "        vertical-align: top;\n",
       "    }\n",
       "\n",
       "    .dataframe thead th {\n",
       "        text-align: right;\n",
       "    }\n",
       "</style>\n",
       "<table border=\"1\" class=\"dataframe\">\n",
       "  <thead>\n",
       "    <tr style=\"text-align: right;\">\n",
       "      <th></th>\n",
       "      <th>tweet_id</th>\n",
       "      <th>airline_sentiment_confidence</th>\n",
       "      <th>negativereason_confidence</th>\n",
       "      <th>retweet_count</th>\n",
       "    </tr>\n",
       "  </thead>\n",
       "  <tbody>\n",
       "    <tr>\n",
       "      <th>count</th>\n",
       "      <td>1.464000e+04</td>\n",
       "      <td>14640.000000</td>\n",
       "      <td>10522.000000</td>\n",
       "      <td>14640.000000</td>\n",
       "    </tr>\n",
       "    <tr>\n",
       "      <th>mean</th>\n",
       "      <td>5.692184e+17</td>\n",
       "      <td>0.900169</td>\n",
       "      <td>0.638298</td>\n",
       "      <td>0.082650</td>\n",
       "    </tr>\n",
       "    <tr>\n",
       "      <th>std</th>\n",
       "      <td>7.791112e+14</td>\n",
       "      <td>0.162830</td>\n",
       "      <td>0.330440</td>\n",
       "      <td>0.745778</td>\n",
       "    </tr>\n",
       "    <tr>\n",
       "      <th>min</th>\n",
       "      <td>5.675883e+17</td>\n",
       "      <td>0.335000</td>\n",
       "      <td>0.000000</td>\n",
       "      <td>0.000000</td>\n",
       "    </tr>\n",
       "    <tr>\n",
       "      <th>25%</th>\n",
       "      <td>5.685592e+17</td>\n",
       "      <td>0.692300</td>\n",
       "      <td>0.360600</td>\n",
       "      <td>0.000000</td>\n",
       "    </tr>\n",
       "    <tr>\n",
       "      <th>50%</th>\n",
       "      <td>5.694779e+17</td>\n",
       "      <td>1.000000</td>\n",
       "      <td>0.670600</td>\n",
       "      <td>0.000000</td>\n",
       "    </tr>\n",
       "    <tr>\n",
       "      <th>75%</th>\n",
       "      <td>5.698905e+17</td>\n",
       "      <td>1.000000</td>\n",
       "      <td>1.000000</td>\n",
       "      <td>0.000000</td>\n",
       "    </tr>\n",
       "    <tr>\n",
       "      <th>max</th>\n",
       "      <td>5.703106e+17</td>\n",
       "      <td>1.000000</td>\n",
       "      <td>1.000000</td>\n",
       "      <td>44.000000</td>\n",
       "    </tr>\n",
       "  </tbody>\n",
       "</table>\n",
       "</div>"
      ],
      "text/plain": [
       "           tweet_id  ...  retweet_count\n",
       "count  1.464000e+04  ...   14640.000000\n",
       "mean   5.692184e+17  ...       0.082650\n",
       "std    7.791112e+14  ...       0.745778\n",
       "min    5.675883e+17  ...       0.000000\n",
       "25%    5.685592e+17  ...       0.000000\n",
       "50%    5.694779e+17  ...       0.000000\n",
       "75%    5.698905e+17  ...       0.000000\n",
       "max    5.703106e+17  ...      44.000000\n",
       "\n",
       "[8 rows x 4 columns]"
      ]
     },
     "execution_count": 8,
     "metadata": {
      "tags": []
     },
     "output_type": "execute_result"
    }
   ],
   "source": [
    "tweets.describe()\n",
    "# description of numeric columns"
   ]
  },
  {
   "cell_type": "code",
   "execution_count": 8,
   "metadata": {
    "id": "zUW6IuBVErcJ"
   },
   "outputs": [],
   "source": []
  },
  {
   "cell_type": "code",
   "execution_count": 9,
   "metadata": {
    "colab": {
     "base_uri": "https://localhost:8080/",
     "height": 445
    },
    "id": "VZo7i6n9EZvp",
    "outputId": "6601af11-93d2-4c5a-a14d-fcb2b8129534"
   },
   "outputs": [
    {
     "data": {
      "text/html": [
       "<div>\n",
       "<style scoped>\n",
       "    .dataframe tbody tr th:only-of-type {\n",
       "        vertical-align: middle;\n",
       "    }\n",
       "\n",
       "    .dataframe tbody tr th {\n",
       "        vertical-align: top;\n",
       "    }\n",
       "\n",
       "    .dataframe thead th {\n",
       "        text-align: right;\n",
       "    }\n",
       "</style>\n",
       "<table border=\"1\" class=\"dataframe\">\n",
       "  <thead>\n",
       "    <tr style=\"text-align: right;\">\n",
       "      <th></th>\n",
       "      <th>tweet_id</th>\n",
       "      <th>airline_sentiment</th>\n",
       "      <th>airline_sentiment_confidence</th>\n",
       "      <th>negativereason</th>\n",
       "      <th>negativereason_confidence</th>\n",
       "      <th>airline</th>\n",
       "      <th>airline_sentiment_gold</th>\n",
       "      <th>name</th>\n",
       "      <th>negativereason_gold</th>\n",
       "      <th>retweet_count</th>\n",
       "      <th>text</th>\n",
       "      <th>tweet_coord</th>\n",
       "      <th>tweet_created</th>\n",
       "      <th>tweet_location</th>\n",
       "      <th>user_timezone</th>\n",
       "    </tr>\n",
       "  </thead>\n",
       "  <tbody>\n",
       "    <tr>\n",
       "      <th>0</th>\n",
       "      <td>570306133677760513</td>\n",
       "      <td>neutral</td>\n",
       "      <td>1.0000</td>\n",
       "      <td>NaN</td>\n",
       "      <td>NaN</td>\n",
       "      <td>Virgin America</td>\n",
       "      <td>NaN</td>\n",
       "      <td>cairdin</td>\n",
       "      <td>NaN</td>\n",
       "      <td>0</td>\n",
       "      <td>@VirginAmerica What @dhepburn said.</td>\n",
       "      <td>NaN</td>\n",
       "      <td>2015-02-24 11:35:52 -0800</td>\n",
       "      <td>NaN</td>\n",
       "      <td>Eastern Time (US &amp; Canada)</td>\n",
       "    </tr>\n",
       "    <tr>\n",
       "      <th>1</th>\n",
       "      <td>570301130888122368</td>\n",
       "      <td>positive</td>\n",
       "      <td>0.3486</td>\n",
       "      <td>NaN</td>\n",
       "      <td>0.0000</td>\n",
       "      <td>Virgin America</td>\n",
       "      <td>NaN</td>\n",
       "      <td>jnardino</td>\n",
       "      <td>NaN</td>\n",
       "      <td>0</td>\n",
       "      <td>@VirginAmerica plus you've added commercials t...</td>\n",
       "      <td>NaN</td>\n",
       "      <td>2015-02-24 11:15:59 -0800</td>\n",
       "      <td>NaN</td>\n",
       "      <td>Pacific Time (US &amp; Canada)</td>\n",
       "    </tr>\n",
       "    <tr>\n",
       "      <th>2</th>\n",
       "      <td>570301083672813571</td>\n",
       "      <td>neutral</td>\n",
       "      <td>0.6837</td>\n",
       "      <td>NaN</td>\n",
       "      <td>NaN</td>\n",
       "      <td>Virgin America</td>\n",
       "      <td>NaN</td>\n",
       "      <td>yvonnalynn</td>\n",
       "      <td>NaN</td>\n",
       "      <td>0</td>\n",
       "      <td>@VirginAmerica I didn't today... Must mean I n...</td>\n",
       "      <td>NaN</td>\n",
       "      <td>2015-02-24 11:15:48 -0800</td>\n",
       "      <td>Lets Play</td>\n",
       "      <td>Central Time (US &amp; Canada)</td>\n",
       "    </tr>\n",
       "    <tr>\n",
       "      <th>3</th>\n",
       "      <td>570301031407624196</td>\n",
       "      <td>negative</td>\n",
       "      <td>1.0000</td>\n",
       "      <td>Bad Flight</td>\n",
       "      <td>0.7033</td>\n",
       "      <td>Virgin America</td>\n",
       "      <td>NaN</td>\n",
       "      <td>jnardino</td>\n",
       "      <td>NaN</td>\n",
       "      <td>0</td>\n",
       "      <td>@VirginAmerica it's really aggressive to blast...</td>\n",
       "      <td>NaN</td>\n",
       "      <td>2015-02-24 11:15:36 -0800</td>\n",
       "      <td>NaN</td>\n",
       "      <td>Pacific Time (US &amp; Canada)</td>\n",
       "    </tr>\n",
       "    <tr>\n",
       "      <th>4</th>\n",
       "      <td>570300817074462722</td>\n",
       "      <td>negative</td>\n",
       "      <td>1.0000</td>\n",
       "      <td>Can't Tell</td>\n",
       "      <td>1.0000</td>\n",
       "      <td>Virgin America</td>\n",
       "      <td>NaN</td>\n",
       "      <td>jnardino</td>\n",
       "      <td>NaN</td>\n",
       "      <td>0</td>\n",
       "      <td>@VirginAmerica and it's a really big bad thing...</td>\n",
       "      <td>NaN</td>\n",
       "      <td>2015-02-24 11:14:45 -0800</td>\n",
       "      <td>NaN</td>\n",
       "      <td>Pacific Time (US &amp; Canada)</td>\n",
       "    </tr>\n",
       "  </tbody>\n",
       "</table>\n",
       "</div>"
      ],
      "text/plain": [
       "             tweet_id  ...               user_timezone\n",
       "0  570306133677760513  ...  Eastern Time (US & Canada)\n",
       "1  570301130888122368  ...  Pacific Time (US & Canada)\n",
       "2  570301083672813571  ...  Central Time (US & Canada)\n",
       "3  570301031407624196  ...  Pacific Time (US & Canada)\n",
       "4  570300817074462722  ...  Pacific Time (US & Canada)\n",
       "\n",
       "[5 rows x 15 columns]"
      ]
     },
     "execution_count": 9,
     "metadata": {
      "tags": []
     },
     "output_type": "execute_result"
    }
   ],
   "source": [
    "tweets.head()\n",
    "# data is tweets about  airlines "
   ]
  },
  {
   "cell_type": "code",
   "execution_count": 10,
   "metadata": {
    "id": "LakR7fcXEsKF"
   },
   "outputs": [],
   "source": [
    "# 2. drop all colums except text , airline_sentiment\n",
    "# airline_sentiment is the target(dependent variable) and text is the tweet that needs to be analyzed \n",
    "\n",
    "df = tweets[['text','airline_sentiment']]"
   ]
  },
  {
   "cell_type": "code",
   "execution_count": 11,
   "metadata": {
    "colab": {
     "base_uri": "https://localhost:8080/"
    },
    "id": "Qbd2SNb0FVrl",
    "outputId": "2f7a69c6-6a1c-40a3-dce0-76bb12eab986"
   },
   "outputs": [
    {
     "name": "stdout",
     "output_type": "stream",
     "text": [
      "(14640, 2)\n",
      "                                                                                                                                            text airline_sentiment\n",
      "0                                                                                                            @VirginAmerica What @dhepburn said.           neutral\n",
      "1                                                                       @VirginAmerica plus you've added commercials to the experience... tacky.          positive\n",
      "2                                                                        @VirginAmerica I didn't today... Must mean I need to take another trip!           neutral\n",
      "3                 @VirginAmerica it's really aggressive to blast obnoxious \"entertainment\" in your guests' faces &amp; they have little recourse          negative\n",
      "4                                                                                        @VirginAmerica and it's a really big bad thing about it          negative\n",
      "5       @VirginAmerica seriously would pay $30 a flight for seats that didn't have this playing.\\nit's really the only bad thing about flying VA          negative\n",
      "6                                                                @VirginAmerica yes, nearly every time I fly VX this “ear worm” won’t go away :)          positive\n",
      "7                                   @VirginAmerica Really missed a prime opportunity for Men Without Hats parody, there. https://t.co/mWpG7grEZP           neutral\n",
      "8                                                                                                @virginamerica Well, I didn't…but NOW I DO! :-D          positive\n",
      "9                                                               @VirginAmerica it was amazing, and arrived an hour early. You're too good to me.          positive\n",
      "10                                               @VirginAmerica did you know that suicide is the second leading cause of death among teens 10-24           neutral\n",
      "11                                                           @VirginAmerica I &lt;3 pretty graphics. so much better than minimal iconography. :D          positive\n",
      "12   @VirginAmerica This is such a great deal! Already thinking about my 2nd trip to @Australia &amp; I haven't even gone on my 1st trip yet! ;p          positive\n",
      "13  @VirginAmerica @virginmedia I'm flying your #fabulous #Seductive skies again! U take all the #stress away from travel http://t.co/ahlXHhKiyn          positive\n",
      "14                                                                                                                        @VirginAmerica Thanks!          positive\n",
      "15                                                                                                 @VirginAmerica SFO-PDX schedule is still MIA.          negative\n",
      "16  @VirginAmerica So excited for my first cross country flight LAX to MCO I've heard nothing but great things about Virgin America. #29DaysToGo          positive\n",
      "17     @VirginAmerica  I flew from NYC to SFO last week and couldn't fully sit in my seat due to two large gentleman on either side of me. HELP!          negative\n",
      "18                                                                                                               I ❤️ flying @VirginAmerica. ☺️👍          positive\n",
      "19                                   @VirginAmerica you know what would be amazingly awesome? BOS-FLL PLEASE!!!!!!! I want to fly with only you.          positive\n"
     ]
    }
   ],
   "source": [
    "# 2. print head\n",
    "print(df.shape)\n",
    "pd.set_option('display.max_colwidth',None)\n",
    "print(df.head(20))"
   ]
  },
  {
   "cell_type": "code",
   "execution_count": 12,
   "metadata": {
    "colab": {
     "base_uri": "https://localhost:8080/"
    },
    "id": "_dv1kXFEHmqa",
    "outputId": "c1baff32-0227-4e65-d09a-d76ee97822f3"
   },
   "outputs": [
    {
     "data": {
      "text/plain": [
       "negative    9178\n",
       "neutral     3099\n",
       "positive    2363\n",
       "Name: airline_sentiment, dtype: int64"
      ]
     },
     "execution_count": 12,
     "metadata": {
      "tags": []
     },
     "output_type": "execute_result"
    }
   ],
   "source": [
    "\n",
    "df['airline_sentiment'].value_counts()\n",
    "# there are 3 different sentiment classes negative, neutral, and positive-"
   ]
  },
  {
   "cell_type": "code",
   "execution_count": 13,
   "metadata": {
    "colab": {
     "base_uri": "https://localhost:8080/"
    },
    "id": "YaUiRaonJScq",
    "outputId": "16fad84e-9416-4567-fb05-eb6b1975b3f5"
   },
   "outputs": [
    {
     "data": {
      "text/plain": [
       "negative    0.626913\n",
       "neutral     0.211680\n",
       "positive    0.161407\n",
       "Name: airline_sentiment, dtype: float64"
      ]
     },
     "execution_count": 13,
     "metadata": {
      "tags": []
     },
     "output_type": "execute_result"
    }
   ],
   "source": [
    "df['airline_sentiment'].value_counts(normalize =True)\n",
    "# 62% negative comments and just 16% positive"
   ]
  },
  {
   "cell_type": "code",
   "execution_count": 14,
   "metadata": {
    "colab": {
     "base_uri": "https://localhost:8080/",
     "height": 35
    },
    "id": "Rb8vHf2MJ44L",
    "outputId": "b89a0f8e-2c86-4e85-b921-2cdc05b0bf34"
   },
   "outputs": [
    {
     "data": {
      "application/vnd.google.colaboratory.intrinsic+json": {
       "type": "string"
      },
      "text/plain": [
       "'@VirginAmerica What @dhepburn said.'"
      ]
     },
     "execution_count": 14,
     "metadata": {
      "tags": []
     },
     "output_type": "execute_result"
    }
   ],
   "source": [
    "# there are special (unicode)characters, contractions ...\n",
    "# 3.a remove html tags\n",
    "def strip_htmltags(line):\n",
    "  soup = BeautifulSoup(line)\n",
    "  return contractions.fix(soup.get_text())\n",
    "\n",
    "strip_htmltags(df.at[0,'text'])"
   ]
  },
  {
   "cell_type": "code",
   "execution_count": 15,
   "metadata": {
    "colab": {
     "base_uri": "https://localhost:8080/"
    },
    "id": "ha8_wNLkLq9I",
    "outputId": "4e733661-9808-410f-8ac8-1bdf845a500e"
   },
   "outputs": [
    {
     "name": "stdout",
     "output_type": "stream",
     "text": [
      "['@', 'VirginAmerica', 'What', '@', 'dhepburn', 'said', '.']\n"
     ]
    }
   ],
   "source": [
    "#3. b tokenize\n",
    "def tokenize(line):\n",
    "  words = nltk.word_tokenize(line)\n",
    "  return words\n",
    "words = tokenize(strip_htmltags(df.at[0,'text']))\n",
    "print(words)"
   ]
  },
  {
   "cell_type": "code",
   "execution_count": 16,
   "metadata": {
    "colab": {
     "base_uri": "https://localhost:8080/"
    },
    "id": "xlDrUsHiwk22",
    "outputId": "ce91520e-d32a-4d44-a47f-7030e7eee5e8"
   },
   "outputs": [
    {
     "name": "stdout",
     "output_type": "stream",
     "text": [
      "['abc', 'abc', 'dfh', '$']\n"
     ]
    }
   ],
   "source": [
    "#3.c remove numbers\n",
    "def remove_numbers(words):\n",
    "  new_words = []\n",
    "  for word in words:\n",
    "    new_word = re.sub(r'[0-9]','',word)\n",
    "    if(len(new_word) > 0):\n",
    "      new_words.append(new_word)\n",
    "  return new_words\n",
    "arr = ['123abc','abc','df45h','$89']\n",
    "print(remove_numbers(arr))      \n"
   ]
  },
  {
   "cell_type": "code",
   "execution_count": 17,
   "metadata": {
    "colab": {
     "base_uri": "https://localhost:8080/"
    },
    "id": "2DR4djBfyy0H",
    "outputId": "b1a99ef0-f294-4e16-8114-058b574b3c7f"
   },
   "outputs": [
    {
     "name": "stdout",
     "output_type": "stream",
     "text": [
      "['I', 'flying', '@', 'VirginAmerica', '.']\n"
     ]
    }
   ],
   "source": [
    "#3.d\n",
    "def remove_specialchar(words):\n",
    "  word_arr = []\n",
    "  for word in words:\n",
    "    newword= unicodedata.normalize('NFKD',word).encode('ascii','ignore').decode('utf-8','ignore')\n",
    "    if len(newword) > 0:\n",
    "      word_arr.append(newword)\n",
    "  return word_arr   \n",
    "sp_text = 'I ❤️ flying @VirginAmerica. ☺️👍'\n",
    "wordss = remove_specialchar(tokenize(sp_text))\n",
    "print (wordss)"
   ]
  },
  {
   "cell_type": "code",
   "execution_count": 18,
   "metadata": {
    "colab": {
     "base_uri": "https://localhost:8080/"
    },
    "id": "XVHzWy8u0PRB",
    "outputId": "08968ce7-c3e4-4b98-8659-75d3bd5843b2"
   },
   "outputs": [
    {
     "name": "stdout",
     "output_type": "stream",
     "text": [
      "['i', 'flying', 'virginamerica']\n"
     ]
    }
   ],
   "source": [
    "# 3.d,e removing puctuation\n",
    "def remove_punctuation(words):\n",
    "  new_words=[]\n",
    "  for word in words:\n",
    "    new_word = re.sub(r'[^\\w\\s]','',word)\n",
    "    if len(new_word) > 0:\n",
    "      new_words.append(new_word.lower()) \n",
    "  return new_words;  \n",
    "\n",
    "tokens =  remove_punctuation(wordss)\n",
    "print(tokens)\n"
   ]
  },
  {
   "cell_type": "code",
   "execution_count": 19,
   "metadata": {
    "colab": {
     "base_uri": "https://localhost:8080/"
    },
    "id": "WFdT_r3b1q3K",
    "outputId": "4299bc53-6492-4981-d290-3026dbf2fedd"
   },
   "outputs": [
    {
     "name": "stdout",
     "output_type": "stream",
     "text": [
      "[nltk_data] Downloading package wordnet to /root/nltk_data...\n",
      "[nltk_data]   Unzipping corpora/wordnet.zip.\n",
      "['i', 'fly', 'virginamerica']\n"
     ]
    }
   ],
   "source": [
    "# 3.f lemmatize the words \n",
    "nltk.download('wordnet')\n",
    "def lemmatizewords(words):\n",
    "  newwords =[]\n",
    "  lemmatizer = WordNetLemmatizer()\n",
    "  for word in words:\n",
    "    newwords.append(lemmatizer.lemmatize(word,pos='v'))\n",
    "  return newwords  \n",
    "print(lemmatizewords(tokens))  "
   ]
  },
  {
   "cell_type": "code",
   "execution_count": 20,
   "metadata": {
    "colab": {
     "base_uri": "https://localhost:8080/",
     "height": 289
    },
    "id": "dSk6cRJq7HcM",
    "outputId": "bd3d6b9f-7d11-4aeb-ee75-ce4d07107d21"
   },
   "outputs": [
    {
     "name": "stderr",
     "output_type": "stream",
     "text": [
      "/usr/local/lib/python3.6/dist-packages/ipykernel_launcher.py:29: SettingWithCopyWarning: \n",
      "A value is trying to be set on a copy of a slice from a DataFrame.\n",
      "Try using .loc[row_indexer,col_indexer] = value instead\n",
      "\n",
      "See the caveats in the documentation: https://pandas.pydata.org/pandas-docs/stable/user_guide/indexing.html#returning-a-view-versus-a-copy\n"
     ]
    },
    {
     "data": {
      "text/html": [
       "<div>\n",
       "<style scoped>\n",
       "    .dataframe tbody tr th:only-of-type {\n",
       "        vertical-align: middle;\n",
       "    }\n",
       "\n",
       "    .dataframe tbody tr th {\n",
       "        vertical-align: top;\n",
       "    }\n",
       "\n",
       "    .dataframe thead th {\n",
       "        text-align: right;\n",
       "    }\n",
       "</style>\n",
       "<table border=\"1\" class=\"dataframe\">\n",
       "  <thead>\n",
       "    <tr style=\"text-align: right;\">\n",
       "      <th></th>\n",
       "      <th>text</th>\n",
       "      <th>airline_sentiment</th>\n",
       "    </tr>\n",
       "  </thead>\n",
       "  <tbody>\n",
       "    <tr>\n",
       "      <th>14635</th>\n",
       "      <td>americanair thank get different flight chicago</td>\n",
       "      <td>positive</td>\n",
       "    </tr>\n",
       "    <tr>\n",
       "      <th>14636</th>\n",
       "      <td>americanair leave minutes late flight warn communication minutes late flight call shitty customer svc</td>\n",
       "      <td>negative</td>\n",
       "    </tr>\n",
       "    <tr>\n",
       "      <th>14637</th>\n",
       "      <td>americanair please bring american airlines blackberry</td>\n",
       "      <td>neutral</td>\n",
       "    </tr>\n",
       "    <tr>\n",
       "      <th>14638</th>\n",
       "      <td>americanair money change flight not answer phone suggestions make commitment</td>\n",
       "      <td>negative</td>\n",
       "    </tr>\n",
       "    <tr>\n",
       "      <th>14639</th>\n",
       "      <td>americanair ppl need know many seat next flight plz put us standby people next flight</td>\n",
       "      <td>neutral</td>\n",
       "    </tr>\n",
       "  </tbody>\n",
       "</table>\n",
       "</div>"
      ],
      "text/plain": [
       "                                                                                                        text airline_sentiment\n",
       "14635                                                         americanair thank get different flight chicago          positive\n",
       "14636  americanair leave minutes late flight warn communication minutes late flight call shitty customer svc          negative\n",
       "14637                                                  americanair please bring american airlines blackberry           neutral\n",
       "14638                           americanair money change flight not answer phone suggestions make commitment          negative\n",
       "14639                  americanair ppl need know many seat next flight plz put us standby people next flight           neutral"
      ]
     },
     "execution_count": 20,
     "metadata": {
      "tags": []
     },
     "output_type": "execute_result"
    }
   ],
   "source": [
    "# remove stop words\n",
    "stop_words = set(stopwords.words('english'))\n",
    "customlist = ['not', \"couldn't\", 'didn', \"didn't\", 'doesn', \"doesn't\", 'hadn', \"hadn't\", 'hasn',\n",
    "        \"hasn't\", 'haven', \"haven't\", 'isn', \"isn't\", 'ma', 'mightn', \"mightn't\", 'mustn',\n",
    "        \"mustn't\", 'needn', \"needn't\", 'shan', \"shan't\", 'shouldn', \"shouldn't\", 'wasn',\n",
    "        \"wasn't\", 'weren', \"weren't\", 'won', \"won't\", 'wouldn', \"wouldn't\"]\n",
    "# remove the custom stop words        \n",
    "stop = stop_words -set(customlist)        \n",
    "tweets_count = df['text'].size\n",
    "# Do  all the above prprocessing  and construct pandas dataframe as each row contains word of a line\n",
    "def preprocess_text(line):\n",
    "    # remove html tags and replace contractions\n",
    "    html_stripped_line = strip_htmltags(line)\n",
    "    # split the line into words\n",
    "    words = tokenize(html_stripped_line)\n",
    "    # remove_numbers\n",
    "    words = remove_numbers(words)\n",
    "    # remove non ascii\n",
    "    words = remove_specialchar(words)\n",
    "    # remove punctuation and convert to lower case\n",
    "    words = remove_punctuation(words)\n",
    "   \n",
    "    # remove stop words\n",
    "    words = [w for w in words if  not w in stop]\n",
    "    # lemmatize the words\n",
    "    lemmatized = lemmatizewords(words)\n",
    "    # join the words back\n",
    "    return ' '.join(lemmatized)\n",
    "    \n",
    "df['text'] = df.apply(lambda row:  preprocess_text(row['text']), axis =1)    \n",
    "\n",
    "\n",
    "df.tail(5)"
   ]
  },
  {
   "cell_type": "code",
   "execution_count": 21,
   "metadata": {
    "colab": {
     "base_uri": "https://localhost:8080/",
     "height": 204
    },
    "id": "s4aggJKO-qFi",
    "outputId": "721ce538-b2aa-41a3-a145-5973df6d9eab"
   },
   "outputs": [
    {
     "data": {
      "text/html": [
       "<div>\n",
       "<style scoped>\n",
       "    .dataframe tbody tr th:only-of-type {\n",
       "        vertical-align: middle;\n",
       "    }\n",
       "\n",
       "    .dataframe tbody tr th {\n",
       "        vertical-align: top;\n",
       "    }\n",
       "\n",
       "    .dataframe thead th {\n",
       "        text-align: right;\n",
       "    }\n",
       "</style>\n",
       "<table border=\"1\" class=\"dataframe\">\n",
       "  <thead>\n",
       "    <tr style=\"text-align: right;\">\n",
       "      <th></th>\n",
       "      <th>text</th>\n",
       "      <th>airline_sentiment</th>\n",
       "    </tr>\n",
       "  </thead>\n",
       "  <tbody>\n",
       "    <tr>\n",
       "      <th>0</th>\n",
       "      <td>virginamerica dhepburn say</td>\n",
       "      <td>neutral</td>\n",
       "    </tr>\n",
       "    <tr>\n",
       "      <th>1</th>\n",
       "      <td>virginamerica plus add commercials experience tacky</td>\n",
       "      <td>positive</td>\n",
       "    </tr>\n",
       "    <tr>\n",
       "      <th>2</th>\n",
       "      <td>virginamerica not today must mean need take another trip</td>\n",
       "      <td>neutral</td>\n",
       "    </tr>\n",
       "    <tr>\n",
       "      <th>3</th>\n",
       "      <td>virginamerica really aggressive blast obnoxious entertainment guests face little recourse</td>\n",
       "      <td>negative</td>\n",
       "    </tr>\n",
       "    <tr>\n",
       "      <th>4</th>\n",
       "      <td>virginamerica really big bad thing</td>\n",
       "      <td>negative</td>\n",
       "    </tr>\n",
       "  </tbody>\n",
       "</table>\n",
       "</div>"
      ],
      "text/plain": [
       "                                                                                        text airline_sentiment\n",
       "0                                                                 virginamerica dhepburn say           neutral\n",
       "1                                        virginamerica plus add commercials experience tacky          positive\n",
       "2                                   virginamerica not today must mean need take another trip           neutral\n",
       "3  virginamerica really aggressive blast obnoxious entertainment guests face little recourse          negative\n",
       "4                                                         virginamerica really big bad thing          negative"
      ]
     },
     "execution_count": 21,
     "metadata": {
      "tags": []
     },
     "output_type": "execute_result"
    }
   ],
   "source": [
    "# print  first 5 lines after preprocessing\n",
    "df.head(5)"
   ]
  },
  {
   "cell_type": "code",
   "execution_count": 22,
   "metadata": {
    "id": "SMqPi0SY-xok"
   },
   "outputs": [],
   "source": [
    "# 4. Vectorization Get only 1000 prioratized words (use count vectorizer first)\n",
    "vectorizer = CountVectorizer(max_features=1000)\n",
    "features = vectorizer.fit_transform(df['text'])"
   ]
  },
  {
   "cell_type": "code",
   "execution_count": 23,
   "metadata": {
    "colab": {
     "base_uri": "https://localhost:8080/"
    },
    "id": "WgWYO04u_hAl",
    "outputId": "aabfa22f-c6d4-4091-f854-c07f5eb93ad2"
   },
   "outputs": [
    {
     "name": "stdout",
     "output_type": "stream",
     "text": [
      "[0 1 0]\n",
      "[0 0 1]\n",
      "[0 1 0]\n",
      "[1 0 0]\n",
      "[1 0 0]\n",
      "['neutral' 'positive' 'neutral' ... 'neutral' 'negative' 'neutral']\n"
     ]
    }
   ],
   "source": [
    "# convert  features to array to feed into ML mode\n",
    "X= features.toarray()\n",
    "from sklearn.ensemble import RandomForestClassifier\n",
    "from sklearn.model_selection import train_test_split, cross_val_score\n",
    "from sklearn.preprocessing import LabelBinarizer\n",
    "enc= LabelBinarizer()\n",
    "Y = enc.fit_transform(df['airline_sentiment'])\n",
    "Y.shape\n",
    "for i in range(0,5):\n",
    "  print(Y[i])\n",
    "print (enc.inverse_transform(Y))\n",
    "# there are 3 classes"
   ]
  },
  {
   "cell_type": "code",
   "execution_count": 24,
   "metadata": {
    "id": "8CZCgM2pYaAZ"
   },
   "outputs": [],
   "source": [
    "Y = Y.astype(int)"
   ]
  },
  {
   "cell_type": "code",
   "execution_count": 25,
   "metadata": {
    "colab": {
     "base_uri": "https://localhost:8080/"
    },
    "id": "gaEUgS4lYhi2",
    "outputId": "2da9da47-e309-4a00-a2b1-d8e4ff953528"
   },
   "outputs": [
    {
     "data": {
      "text/plain": [
       "array([0, 1, 0])"
      ]
     },
     "execution_count": 25,
     "metadata": {
      "tags": []
     },
     "output_type": "execute_result"
    }
   ],
   "source": [
    "Y.shape\n",
    "Y[0]"
   ]
  },
  {
   "cell_type": "code",
   "execution_count": 26,
   "metadata": {
    "id": "4Q9UuFxadO53"
   },
   "outputs": [],
   "source": [
    "\n",
    "# split train and test data\n",
    "x_train, x_test, y_train,y_test = train_test_split(X, Y, test_size=0.2, random_state = 45)"
   ]
  },
  {
   "cell_type": "code",
   "execution_count": 27,
   "metadata": {
    "colab": {
     "base_uri": "https://localhost:8080/"
    },
    "id": "SMIpL3epUK4a",
    "outputId": "b80dec64-d0e1-4549-83d2-84286b66b761"
   },
   "outputs": [
    {
     "name": "stdout",
     "output_type": "stream",
     "text": [
      "(11712, 1000)\n",
      "(2928, 1000)\n",
      "(11712, 3)\n",
      "(2928, 3)\n"
     ]
    }
   ],
   "source": [
    "\n",
    "print(x_train.shape)\n",
    "print(x_test.shape)\n",
    "print(y_train.shape)\n",
    "print(y_test.shape)"
   ]
  },
  {
   "cell_type": "code",
   "execution_count": 28,
   "metadata": {
    "colab": {
     "base_uri": "https://localhost:8080/"
    },
    "id": "qTZROO4aU-_o",
    "outputId": "d4fd8f55-8e85-43c4-8901-45ce25a4c65d"
   },
   "outputs": [
    {
     "name": "stdout",
     "output_type": "stream",
     "text": [
      "RandomForestClassifier(bootstrap=True, ccp_alpha=0.0, class_weight=None,\n",
      "                       criterion='gini', max_depth=None, max_features='auto',\n",
      "                       max_leaf_nodes=None, max_samples=None,\n",
      "                       min_impurity_decrease=0.0, min_impurity_split=None,\n",
      "                       min_samples_leaf=1, min_samples_split=2,\n",
      "                       min_weight_fraction_leaf=0.0, n_estimators=10, n_jobs=4,\n",
      "                       oob_score=False, random_state=None, verbose=0,\n",
      "                       warm_start=False)\n",
      "0.6477459016393443\n"
     ]
    }
   ],
   "source": [
    "#5. build model using RandomForestClassifier(count vectorizer)\n",
    "forest = RandomForestClassifier(n_estimators=10, n_jobs=4)\n",
    "\n",
    "forest = forest.fit(x_train, y_train)\n",
    "\n",
    "print(forest)\n",
    "\n",
    "print(np.mean(cross_val_score(forest, X, Y, cv=10)))"
   ]
  },
  {
   "cell_type": "code",
   "execution_count": 29,
   "metadata": {
    "id": "lqHeRDCZVyFN"
   },
   "outputs": [],
   "source": [
    "# Predict the result for test data using the model built above.\n",
    "\n",
    "predict = forest.predict(x_test)"
   ]
  },
  {
   "cell_type": "code",
   "execution_count": 30,
   "metadata": {
    "colab": {
     "base_uri": "https://localhost:8080/"
    },
    "id": "Bg0HFu0rV43u",
    "outputId": "e9fef66b-031b-4162-fc1c-3d319a17af7c"
   },
   "outputs": [
    {
     "name": "stdout",
     "output_type": "stream",
     "text": [
      "[1 0 0]\n",
      "[1 0 0]\n",
      "              precision    recall  f1-score   support\n",
      "\n",
      "           0       0.77      0.91      0.83      1832\n",
      "           1       0.57      0.41      0.48       623\n",
      "           2       0.75      0.50      0.60       473\n",
      "\n",
      "    accuracy                           0.74      2928\n",
      "   macro avg       0.70      0.61      0.64      2928\n",
      "weighted avg       0.72      0.74      0.72      2928\n",
      "\n"
     ]
    }
   ],
   "source": [
    "from sklearn.metrics import classification_report\n",
    "print(predict[0])\n",
    "print(y_test[0])\n",
    "# convert one hot encoding to class index \n",
    "\n",
    "y_true =np.argmax(y_test,axis=1) \n",
    "\n",
    "result = np.argmax(predict,axis=1)\n",
    "# print classification report\n",
    "print(classification_report(y_true, result))"
   ]
  },
  {
   "cell_type": "code",
   "execution_count": 31,
   "metadata": {
    "colab": {
     "base_uri": "https://localhost:8080/",
     "height": 496
    },
    "id": "Mf1eZzcnW1bV",
    "outputId": "18727754-2457-4b23-cce1-4f806058c61c"
   },
   "outputs": [
    {
     "name": "stdout",
     "output_type": "stream",
     "text": [
      "[[1668  129   35]\n",
      " [ 327  253   43]\n",
      " [ 177   60  236]]\n"
     ]
    },
    {
     "data": {
      "text/plain": [
       "<matplotlib.axes._subplots.AxesSubplot at 0x7f5155dc5b70>"
      ]
     },
     "execution_count": 31,
     "metadata": {
      "tags": []
     },
     "output_type": "execute_result"
    },
    {
     "data": {
      "image/png": "[encoded data removed]",
      "text/plain": [
       "<Figure size 720x504 with 2 Axes>"
      ]
     },
     "metadata": {
      "needs_background": "light",
      "tags": []
     },
     "output_type": "display_data"
    }
   ],
   "source": [
    "import seaborn as sns\n",
    "from sklearn.metrics import confusion_matrix\n",
    "cm = confusion_matrix(y_true, result)\n",
    "print(cm)\n",
    "df_cm = pd.DataFrame(cm, index = [i for i in \"123\"],\n",
    "                  columns = [i for i in \"123\"])\n",
    "plt.figure(figsize = (10,7))\n",
    "sns.heatmap(df_cm, annot=True, fmt='g')"
   ]
  },
  {
   "cell_type": "code",
   "execution_count": 38,
   "metadata": {
    "id": "l4xiCEFHlYHC"
   },
   "outputs": [],
   "source": [
    "#vectorization using TfidfVectorizer\n",
    "tfidVectorizer = TfidfVectorizer(max_features =1000)\n",
    "features = tfidVectorizer.fit_transform(df['text'])"
   ]
  },
  {
   "cell_type": "code",
   "execution_count": 39,
   "metadata": {
    "id": "6usB6x4Bq4Ta"
   },
   "outputs": [],
   "source": [
    "# convert  features to array to feed into ML mode\n",
    "X= features.toarray()\n",
    "\n",
    "# split train and test data\n",
    "x_train, x_test, y_train,y_test = train_test_split(X, Y, test_size=0.2, random_state = 45)"
   ]
  },
  {
   "cell_type": "code",
   "execution_count": 40,
   "metadata": {
    "colab": {
     "base_uri": "https://localhost:8080/"
    },
    "id": "c2HD79Nvrqo3",
    "outputId": "ce998a86-17d5-4f49-8b50-e2ca5475c5b2"
   },
   "outputs": [
    {
     "name": "stdout",
     "output_type": "stream",
     "text": [
      "RandomForestClassifier(bootstrap=True, ccp_alpha=0.0, class_weight=None,\n",
      "                       criterion='gini', max_depth=None, max_features='auto',\n",
      "                       max_leaf_nodes=None, max_samples=None,\n",
      "                       min_impurity_decrease=0.0, min_impurity_split=None,\n",
      "                       min_samples_leaf=1, min_samples_split=2,\n",
      "                       min_weight_fraction_leaf=0.0, n_estimators=10, n_jobs=4,\n",
      "                       oob_score=False, random_state=None, verbose=0,\n",
      "                       warm_start=False)\n",
      "0.6741120218579235\n"
     ]
    }
   ],
   "source": [
    "# 5. build model using RabdomForestClassifier (TfidfVectorizer features)\n",
    "forest_tfid = RandomForestClassifier(n_estimators=10, n_jobs=4)\n",
    "\n",
    "forest_tfid = forest_tfid.fit(x_train, y_train)\n",
    "\n",
    "print(forest_tfid)\n",
    "\n",
    "print(np.mean(cross_val_score(forest_tfid, X, Y, cv=10)))"
   ]
  },
  {
   "cell_type": "code",
   "execution_count": null,
   "metadata": {
    "id": "EoWpeB8IvbnX"
   },
   "outputs": [],
   "source": []
  },
  {
   "cell_type": "code",
   "execution_count": 41,
   "metadata": {
    "id": "brOnjXUmsZpP"
   },
   "outputs": [],
   "source": [
    "# Predict the result for test data using the model built above.\n",
    "\n",
    "predict = forest_tfid.predict(x_test)"
   ]
  },
  {
   "cell_type": "code",
   "execution_count": 42,
   "metadata": {
    "colab": {
     "base_uri": "https://localhost:8080/"
    },
    "id": "YuqqotBxshvV",
    "outputId": "5b37f19c-c995-402a-803a-0d24496d9a41"
   },
   "outputs": [
    {
     "name": "stdout",
     "output_type": "stream",
     "text": [
      "[1 0 0]\n",
      "[1 0 0]\n",
      "              precision    recall  f1-score   support\n",
      "\n",
      "           0       0.75      0.95      0.84      1832\n",
      "           1       0.64      0.35      0.46       623\n",
      "           2       0.81      0.44      0.57       473\n",
      "\n",
      "    accuracy                           0.74      2928\n",
      "   macro avg       0.73      0.58      0.62      2928\n",
      "weighted avg       0.74      0.74      0.72      2928\n",
      "\n"
     ]
    }
   ],
   "source": [
    "from sklearn.metrics import classification_report\n",
    "print(predict[0])\n",
    "print(y_test[0])\n",
    "# convert one hot encoding to class index \n",
    "\n",
    "y_true = np.argmax(y_test,axis=1) \n",
    "\n",
    "result = np.argmax(predict,axis=1)\n",
    "# print classification report\n",
    "print(classification_report(y_true, result))"
   ]
  },
  {
   "cell_type": "code",
   "execution_count": 43,
   "metadata": {
    "colab": {
     "base_uri": "https://localhost:8080/",
     "height": 496
    },
    "id": "sci7L4EUsrTg",
    "outputId": "f32fad38-9d6a-408c-a04c-770aad505db6"
   },
   "outputs": [
    {
     "name": "stdout",
     "output_type": "stream",
     "text": [
      "[[1745   70   17]\n",
      " [ 370  221   32]\n",
      " [ 209   54  210]]\n"
     ]
    },
    {
     "data": {
      "text/plain": [
       "<matplotlib.axes._subplots.AxesSubplot at 0x7f515504ee80>"
      ]
     },
     "execution_count": 43,
     "metadata": {
      "tags": []
     },
     "output_type": "execute_result"
    },
    {
     "data": {
      "image/png": "[encoded data removed]",
      "text/plain": [
       "<Figure size 720x504 with 2 Axes>"
      ]
     },
     "metadata": {
      "needs_background": "light",
      "tags": []
     },
     "output_type": "display_data"
    }
   ],
   "source": [
    "cm = confusion_matrix(y_true, result)\n",
    "print(cm)\n",
    "df_cm = pd.DataFrame(cm, index = [i for i in \"123\"],\n",
    "                  columns = [i for i in \"123\"])\n",
    "plt.figure(figsize = (10,7))\n",
    "sns.heatmap(df_cm, annot=True, fmt='g')"
   ]
  },
  {
   "cell_type": "markdown",
   "metadata": {
    "id": "ZQET6PtpvrAK"
   },
   "source": [
    "Summary\n"
   ]
  },
  {
   "cell_type": "markdown",
   "metadata": {
    "id": "NOUABnBBvv8g"
   },
   "source": [
    "Preprocessing:\n",
    "- Used html tag removal, contractions expanded, tokenized the words \n",
    "- removed all the meaningless stop words\n",
    "- remove numbers using regex\n",
    "- removed special characters, emojis \n",
    "- lemmatized the words instead of stemming,because the words are valid ones  present in dictionary\n",
    "\n",
    "Vectorization:\n",
    "  -Did Count Vectorization first and fetched 1000 hige priority words (in this case words which have high frequency in each doc.)\n",
    "  - accuracy is not bad (64%)\n",
    "  - recall score of (negative sentiment is also high)\n",
    "\n",
    "\n",
    "Tried TfidfVectrozer again\n",
    " - accuracy is better (67%)\n",
    " - because features are prioritized using TF-IDF whick evaluates the find the words(features) based on  all the documents not just individual document.\n",
    "  "
   ]
  },
  {
   "cell_type": "code",
   "execution_count": null,
   "metadata": {
    "id": "L2WDYwAotgKi"
   },
   "outputs": [],
   "source": []
  }
 ],
 "metadata": {
  "colab": {
   "collapsed_sections": [],
   "name": "NLP_wordprocessing.ipynb",
   "provenance": []
  },
  "kernelspec": {
   "display_name": "Python 3",
   "language": "python",
   "name": "python3"
  },
  "language_info": {
   "codemirror_mode": {
    "name": "ipython",
    "version": 3
   },
   "file_extension": ".py",
   "mimetype": "text/x-python",
   "name": "python",
   "nbconvert_exporter": "python",
   "pygments_lexer": "ipython3",
   "version": "3.8.5"
  }
 },
 "nbformat": 4,
 "nbformat_minor": 4
}
